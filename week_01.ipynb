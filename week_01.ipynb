{
 "cells": [
  {
   "cell_type": "markdown",
   "metadata": {},
   "source": [
    "# The Battle of the Neighborhoods - Week 1"
   ]
  },
  {
   "cell_type": "markdown",
   "metadata": {},
   "source": [
    "## Introduction & Business Problem :"
   ]
  },
  {
   "cell_type": "markdown",
   "metadata": {},
   "source": [
    "Businesses may not be in a position to satisfy all of their customers, every time. It may prove difficult to meet the exact requirements of each individual customer. People do not have identical preferences, so rarely does one product completely satisfy everyone. Many companies may usually adopt a strategy that is known as target marketing. This strategy involves dividing the market into segments and developing products or services to these segments. A target marketing strategy is focused on the customers’ needs and wants. Hence, a prerequisite for the development of this customer-centric strategy is the specification of the target markets that the companies will attempt to serve. The marketing managers who may consider using target marketing will usually break the market down into groups and to target the most profitable segments. They may adapt their marketing mix elements, including; products, prices, channels, and promotional tactics to suit the requirements of individual consumers. In sum, this chapter explains the three stages of target marketing, including; market segmentation (ii) market targeting and (iii) market positioning."
   ]
  },
  {
   "cell_type": "markdown",
   "metadata": {},
   "source": [
    "## Problem Description"
   ]
  },
  {
   "cell_type": "markdown",
   "metadata": {},
   "source": [
    "A market segment is a group of individuals, groups or organisations who may share the same interests, traits and characteristics. The consumer segments may have similar needs, wants and expectations. Therefore, businesses should ask themselves which segments should they serve? To answer this question, the businesses must determine the most appropriate ways to distinguish and to differentiate their segments. Once the segments have been identified they must customise their offerings to satisfy each and every one of them. \n",
    "\n",
    "Market segmentation is the actual process of identifying segments of the market and the process of dividing a broad customer base into sub-groups of consumers consisting of existing and prospective customers. Market segmentation is a consumer-oriented process and can be applied to almost any type of market. In dividing or segmenting markets, researchers typically look for shared characteristics such as common needs, common interests, similar lifestyles or even similar demographic profiles. So, market segmentation assumes that different segments require different marketing programmes, as diverse customers are usually targeted through different offers, prices, promotions, distributions or some combination of marketing variables. For example, Southwest Airlines’ single-minded focus on the short-haul, point-to-point, major-city routes, allowed them to prosper as their competitors floundered. The airline’s focus on specific segments allowed them to do a better job of deciding what their target segment really valued (for example, convenience, low price, on-time departures and arrivals, among other things). \n",
    "\n",
    "Once the customer segments have been identified and profiled, the marketer must decide which segment to target. Diverse customers will have different expectations. For instance, there may be customers who will value a differentiated, high quality service, whilst others may be more price-sensitive. Notwithstanding, not all firms have the resources to serve all customers in an adequate manner. Trying to serve the entire market could be a recipe for disaster. The overall aim of segmentation is to identify high-yield segments. These are likely to be the most profitable groups of customers, or may hold potential for growth. Hence, the most lucrative segments will usually become target markets"
   ]
  },
  {
   "cell_type": "markdown",
   "metadata": {},
   "source": [
    "\n",
    "## Target Audience:"
   ]
  },
  {
   "cell_type": "markdown",
   "metadata": {},
   "source": [
    "Once the market segmentation has been completed, the company should be aware of the needs and wants of its selected segments. It is in the interest of the business to identify any untapped needs in the marketplace, as there could be customers who may not be adequately served by competitors. It is then necessary to identify the most profitable segments and to decide which segments will be served. There are three market coverage alternatives which can be applied; undifferentiated marketing; differentiated marketing and concentrated marketing."
   ]
  },
  {
   "cell_type": "markdown",
   "metadata": {},
   "source": [
    "\n",
    "## Success Criteria:"
   ]
  },
  {
   "cell_type": "markdown",
   "metadata": {},
   "source": [
    "The clustering technique can be very handy when it comes to unlabeled data. Since most of the data in the real-world is unlabeled and annotating the data has higher costs, clustering techniques can be used to label unlabeled data. \n",
    "In this case, we will use the clustering technique in order to segment custemers targets into 4 groupes"
   ]
  },
  {
   "cell_type": "markdown",
   "metadata": {},
   "source": [
    "# Description of input Data"
   ]
  },
  {
   "cell_type": "markdown",
   "metadata": {},
   "source": [
    "The dataset for this problem can be downloaded from the following link:\n",
    "\n",
    "https://drive.google.com/open?id=18Dsja5_1jRY1GnWoORXFFKGTJhylk6rJ"
   ]
  },
  {
   "cell_type": "markdown",
   "metadata": {},
   "source": [
    "Our dataset has five columns: CustomerID, Genre, Age, Annual Income, and Spending Score. this is suffiscient to simulate targeting in marketing strategies and with that type of a=data we can easly segment our custemer \n",
    "\n",
    "PS : The Spending Score column signifies how often a person spends money in a mall on a scale of 1 to 100 with 100 being the highest spender"
   ]
  },
  {
   "cell_type": "code",
   "execution_count": null,
   "metadata": {},
   "outputs": [],
   "source": []
  }
 ],
 "metadata": {
  "kernelspec": {
   "display_name": "Python 3",
   "language": "python",
   "name": "python3"
  },
  "language_info": {
   "codemirror_mode": {
    "name": "ipython",
    "version": 3
   },
   "file_extension": ".py",
   "mimetype": "text/x-python",
   "name": "python",
   "nbconvert_exporter": "python",
   "pygments_lexer": "ipython3",
   "version": "3.7.3"
  }
 },
 "nbformat": 4,
 "nbformat_minor": 2
}
